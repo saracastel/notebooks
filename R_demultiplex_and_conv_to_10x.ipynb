{
 "cells": [
  {
   "cell_type": "markdown",
   "id": "104761bf",
   "metadata": {},
   "source": [
    "## Load data and check data structure"
   ]
  },
  {
   "cell_type": "markdown",
   "id": "6a2bc91c",
   "metadata": {},
   "source": [
    "In this example we will use data available here: https://lambrechtslab.sites.vib.be/en/single-cell"
   ]
  },
  {
   "cell_type": "markdown",
   "id": "6deb577d",
   "metadata": {},
   "source": [
    "Set working directory and load rds object"
   ]
  },
  {
   "cell_type": "code",
   "execution_count": null,
   "id": "fb15d70c",
   "metadata": {},
   "outputs": [],
   "source": [
    "setwd(\"/Your/Directory\")\n",
    "data <- readRDS(\"1867-counts_cells_cohort2.rds\")"
   ]
  },
  {
   "cell_type": "markdown",
   "id": "2a2643f5",
   "metadata": {},
   "source": [
    "Load required package"
   ]
  },
  {
   "cell_type": "code",
   "execution_count": null,
   "id": "b8a64495",
   "metadata": {},
   "outputs": [],
   "source": [
    "library(\"DropletUtils\")"
   ]
  },
  {
   "cell_type": "markdown",
   "id": "9de4f7a9",
   "metadata": {},
   "source": [
    "Looking at data structure we can see that this is a dgCMatrix with gene symbols as rownames and cell barcodes as colnames"
   ]
  },
  {
   "cell_type": "code",
   "execution_count": null,
   "id": "0e971dee",
   "metadata": {},
   "outputs": [],
   "source": [
    "str(data)"
   ]
  },
  {
   "cell_type": "markdown",
   "id": "dd5bd044",
   "metadata": {},
   "source": [
    "Let's look at the firs cell barcode as an example (BIOKEY_13_Pre_AAACCTGCAACAACCT-1)"
   ]
  },
  {
   "cell_type": "code",
   "execution_count": null,
   "id": "3616e2fe",
   "metadata": {},
   "outputs": [],
   "source": [
    "colnames(data)[1]"
   ]
  },
  {
   "cell_type": "markdown",
   "id": "0eb7bb73",
   "metadata": {},
   "source": [
    "In this particular case, cell barcodes consist of a prefix (BIOKEY_13_Pre_) and a sequence of bases (AAACCTGCAACAACCT-1)\n",
    "The prefixes are sample names, so we'll use them to demultiplex the data"
   ]
  },
  {
   "cell_type": "markdown",
   "id": "689821c3",
   "metadata": {},
   "source": [
    "### Demultiplex data based on barcodes prefixes and export as 10X files"
   ]
  },
  {
   "cell_type": "markdown",
   "id": "7415e52e",
   "metadata": {},
   "source": [
    "Use a regular expression to extract prefixes"
   ]
  },
  {
   "cell_type": "code",
   "execution_count": null,
   "id": "8d81bc21",
   "metadata": {},
   "outputs": [],
   "source": [
    "data.pfx <- gsub(\"(.+)_[A-Z]+-1$\", \"\\\\1\", colnames(data), perl=TRUE)"
   ]
  },
  {
   "cell_type": "markdown",
   "id": "96b60d2d",
   "metadata": {},
   "source": [
    "Get unique sample names"
   ]
  },
  {
   "cell_type": "code",
   "execution_count": null,
   "id": "86546cb7",
   "metadata": {},
   "outputs": [],
   "source": [
    "data.samples <- unique(data.pfx)"
   ]
  },
  {
   "cell_type": "markdown",
   "id": "b58d067a",
   "metadata": {},
   "source": [
    "Check  sample names (pay attention if are using this script to process a different dataset as the regular expression may need to be modified depending on the specific colnames)"
   ]
  },
  {
   "cell_type": "code",
   "execution_count": null,
   "id": "b7bc006b",
   "metadata": {},
   "outputs": [],
   "source": [
    "head(data.samples)\n",
    "tail(data.samples)"
   ]
  },
  {
   "cell_type": "markdown",
   "id": "4207fbf5",
   "metadata": {},
   "source": [
    "Export as 10X files that can be directly uploaded to Cellenics"
   ]
  },
  {
   "cell_type": "markdown",
   "id": "c2d1c996",
   "metadata": {},
   "source": [
    "Define a function that creates a subdirectory named \"demultiplexed\" inside the current working directory, and save 10X data for each sample in different subfolders.\n",
    "If a folder named \"demultiplexed\" already exists, it will stop and return an error to avoid overwriting files."
   ]
  },
  {
   "cell_type": "code",
   "execution_count": null,
   "id": "2c2929a3",
   "metadata": {},
   "outputs": [],
   "source": [
    "demultiplex_convert_to_10x <- function(obj, samples) {\n",
    "          if(!dir.exists(file.path(getwd(), \"demultiplexed\"))) {\n",
    "          dir.create(file.path(getwd(), \"demultiplexed\"))\n",
    "        } else {\n",
    "          print(\"WARNING! A demultiplexed directory already exists\")\n",
    "          return()\n",
    "        }\n",
    "        for (i in 1:length(samples)) {\n",
    "        print(paste0(\"Converting sample \", samples[i]))\n",
    "        DropletUtils::write10xCounts(path = paste0(getwd(),\"/demultiplexed/\",samples[i]), x = obj[,grep(paste0(\"^\",samples[i],\".*\"),colnames(obj))], type = \"sparse\", version=\"3\")\n",
    "        }\n",
    "}"
   ]
  },
  {
   "cell_type": "markdown",
   "id": "a31f87ea",
   "metadata": {},
   "source": [
    "Run the function"
   ]
  },
  {
   "cell_type": "code",
   "execution_count": null,
   "id": "b61e0be9",
   "metadata": {},
   "outputs": [],
   "source": [
    "demultiplex_convert_to_10x(obj = data, samples = data.samples)"
   ]
  }
 ],
 "metadata": {
  "kernelspec": {
   "display_name": "R",
   "language": "R",
   "name": "ir"
  }
 },
 "nbformat": 4,
 "nbformat_minor": 5
}
